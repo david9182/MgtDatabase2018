{
 "cells": [
  {
   "cell_type": "markdown",
   "metadata": {},
   "source": [
    "## 2-1 복습"
   ]
  },
  {
   "cell_type": "code",
   "execution_count": 5,
   "metadata": {},
   "outputs": [
    {
     "data": {
      "text/plain": [
       "75"
      ]
     },
     "execution_count": 5,
     "metadata": {},
     "output_type": "execute_result"
    }
   ],
   "source": [
    "a = 178\n",
    "b = 253\n",
    "b - a"
   ]
  },
  {
   "cell_type": "code",
   "execution_count": 6,
   "metadata": {},
   "outputs": [
    {
     "data": {
      "text/plain": [
       "0.7035573122529645"
      ]
     },
     "execution_count": 6,
     "metadata": {},
     "output_type": "execute_result"
    }
   ],
   "source": [
    "a / b"
   ]
  },
  {
   "cell_type": "code",
   "execution_count": 7,
   "metadata": {},
   "outputs": [
    {
     "data": {
      "text/plain": [
       "1.4213483146067416"
      ]
     },
     "execution_count": 7,
     "metadata": {},
     "output_type": "execute_result"
    }
   ],
   "source": [
    "b / a"
   ]
  },
  {
   "cell_type": "code",
   "execution_count": 8,
   "metadata": {},
   "outputs": [
    {
     "data": {
      "text/plain": [
       "243"
      ]
     },
     "execution_count": 8,
     "metadata": {},
     "output_type": "execute_result"
    }
   ],
   "source": [
    "c = 3\n",
    "d = 5\n",
    "c ** d"
   ]
  },
  {
   "cell_type": "code",
   "execution_count": 13,
   "metadata": {},
   "outputs": [
    {
     "data": {
      "text/plain": [
       "1"
      ]
     },
     "execution_count": 13,
     "metadata": {},
     "output_type": "execute_result"
    }
   ],
   "source": [
    "d // c"
   ]
  },
  {
   "cell_type": "code",
   "execution_count": 14,
   "metadata": {},
   "outputs": [
    {
     "data": {
      "text/plain": [
       "1.6666666666666667"
      ]
     },
     "execution_count": 14,
     "metadata": {},
     "output_type": "execute_result"
    }
   ],
   "source": [
    "d / c"
   ]
  },
  {
   "cell_type": "code",
   "execution_count": 17,
   "metadata": {},
   "outputs": [
    {
     "data": {
      "text/plain": [
       "70.0"
      ]
     },
     "execution_count": 17,
     "metadata": {},
     "output_type": "execute_result"
    }
   ],
   "source": [
    "A = 80\n",
    "B = 75\n",
    "C = 55\n",
    "(A + B + C) / 3"
   ]
  },
  {
   "cell_type": "code",
   "execution_count": 19,
   "metadata": {},
   "outputs": [
    {
     "data": {
      "text/plain": [
       "2"
      ]
     },
     "execution_count": 19,
     "metadata": {},
     "output_type": "execute_result"
    }
   ],
   "source": [
    "17 % 3"
   ]
  },
  {
   "cell_type": "code",
   "execution_count": null,
   "metadata": {},
   "outputs": [],
   "source": []
  },
  {
   "cell_type": "markdown",
   "metadata": {},
   "source": [
    "## 2-2 복습"
   ]
  },
  {
   "cell_type": "code",
   "execution_count": 20,
   "metadata": {},
   "outputs": [
    {
     "data": {
      "text/plain": [
       "'Pythonis fun!'"
      ]
     },
     "execution_count": 20,
     "metadata": {},
     "output_type": "execute_result"
    }
   ],
   "source": [
    "head = 'Python'\n",
    "tail = 'is fun!'\n",
    "head + tail"
   ]
  },
  {
   "cell_type": "code",
   "execution_count": 21,
   "metadata": {},
   "outputs": [],
   "source": [
    "a = \"Life is too short, you need Python\""
   ]
  },
  {
   "cell_type": "code",
   "execution_count": 22,
   "metadata": {},
   "outputs": [
    {
     "data": {
      "text/plain": [
       "'Life'"
      ]
     },
     "execution_count": 22,
     "metadata": {},
     "output_type": "execute_result"
    }
   ],
   "source": [
    "a[0:4]"
   ]
  },
  {
   "cell_type": "code",
   "execution_count": 24,
   "metadata": {},
   "outputs": [],
   "source": [
    "b = '20180425fukkinghappyday'"
   ]
  },
  {
   "cell_type": "code",
   "execution_count": 34,
   "metadata": {},
   "outputs": [],
   "source": [
    "year = b[0:4]\n",
    "month = b[4:6]\n",
    "date = b[6:8]\n",
    "my_feeling = b[8:]"
   ]
  },
  {
   "cell_type": "code",
   "execution_count": 39,
   "metadata": {},
   "outputs": [
    {
     "name": "stdout",
     "output_type": "stream",
     "text": [
      "2018\n",
      "04\n",
      "fukkinghappyday\n"
     ]
    }
   ],
   "source": [
    "print(year)\n",
    "print(month)\n",
    "print(my_feeling)"
   ]
  },
  {
   "cell_type": "code",
   "execution_count": 1,
   "metadata": {},
   "outputs": [],
   "source": [
    "a = {'name' : 'Jung', 'outlook' : 'ugly', 'sex' : 'male'}"
   ]
  },
  {
   "cell_type": "code",
   "execution_count": 4,
   "metadata": {},
   "outputs": [],
   "source": [
    "a['mind'] = 'crazy'"
   ]
  },
  {
   "cell_type": "code",
   "execution_count": 5,
   "metadata": {},
   "outputs": [
    {
     "data": {
      "text/plain": [
       "{'mind': 'crazy', 'name': 'Jung', 'outlook': 'ugly', 'sex': 'male'}"
      ]
     },
     "execution_count": 5,
     "metadata": {},
     "output_type": "execute_result"
    }
   ],
   "source": [
    "a"
   ]
  },
  {
   "cell_type": "code",
   "execution_count": 6,
   "metadata": {},
   "outputs": [
    {
     "data": {
      "text/plain": [
       "dict_keys(['name', 'outlook', 'sex', 'mind'])"
      ]
     },
     "execution_count": 6,
     "metadata": {},
     "output_type": "execute_result"
    }
   ],
   "source": [
    "a.keys()"
   ]
  },
  {
   "cell_type": "code",
   "execution_count": 7,
   "metadata": {},
   "outputs": [
    {
     "data": {
      "text/plain": [
       "True"
      ]
     },
     "execution_count": 7,
     "metadata": {},
     "output_type": "execute_result"
    }
   ],
   "source": [
    "'name' in a"
   ]
  },
  {
   "cell_type": "code",
   "execution_count": 8,
   "metadata": {},
   "outputs": [
    {
     "data": {
      "text/plain": [
       "True"
      ]
     },
     "execution_count": 8,
     "metadata": {},
     "output_type": "execute_result"
    }
   ],
   "source": [
    "bool(a)"
   ]
  },
  {
   "cell_type": "code",
   "execution_count": 10,
   "metadata": {},
   "outputs": [
    {
     "name": "stdout",
     "output_type": "stream",
     "text": [
      "걸어가라\n"
     ]
    }
   ],
   "source": [
    "money = 0\n",
    "if money:\n",
    "    print(\"택시를 타자\")\n",
    "else:\n",
    "    print(\"걸어가라\")"
   ]
  },
  {
   "cell_type": "code",
   "execution_count": 11,
   "metadata": {},
   "outputs": [
    {
     "name": "stdout",
     "output_type": "stream",
     "text": [
      "택시를 타자\n"
     ]
    }
   ],
   "source": [
    "money = 2000\n",
    "card = 1\n",
    "if money >= 3000 or card:\n",
    "    print(\"택시를 타자\")\n",
    "else:\n",
    "    print(\"걸어라\")"
   ]
  },
  {
   "cell_type": "code",
   "execution_count": 15,
   "metadata": {},
   "outputs": [
    {
     "name": "stdout",
     "output_type": "stream",
     "text": [
      "지르러 갑시다\n"
     ]
    }
   ],
   "source": [
    "pocket = ['card', 'wallet', 'tissue', 'post']\n",
    "money = 2000\n",
    "if 'card' in pocket or money >= 3000:\n",
    "    print(\"지르러 갑시다\")\n",
    "else:\n",
    "    print(\"저축이나 해라\")"
   ]
  },
  {
   "cell_type": "code",
   "execution_count": 25,
   "metadata": {},
   "outputs": [
    {
     "name": "stdout",
     "output_type": "stream",
     "text": [
      "네놈의 학점은 1.5이다.\n",
      "자퇴를 추천한다.\n"
     ]
    }
   ],
   "source": [
    "my_score = float(input('학점 입력:' ''))\n",
    "if my_score >= 4.0:\n",
    "    print(\"네놈의 학점은 {my_score}이다.\" .format(my_score=my_score))\n",
    "    print(\"장학금 타가시오\")\n",
    "elif my_score >= 3.0:\n",
    "    print(\"네놈의 학점은 {my_score}이다.\" .format(my_score=my_score))\n",
    "    print(\"나름 잘했다\")\n",
    "elif my_score >= 2.0:\n",
    "    print(\"네놈의 학점은 {my_score}이다.\" .format(my_score=my_score))\n",
    "    print(\"반성해라.\")\n",
    "elif my_score < 2.0:\n",
    "    print(\"네놈의 학점은 {my_score}이다.\" .format(my_score=my_score))\n",
    "    print(\"자퇴를 추천한다.\")"
   ]
  },
  {
   "cell_type": "code",
   "execution_count": 33,
   "metadata": {},
   "outputs": [
    {
     "name": "stdout",
     "output_type": "stream",
     "text": [
      "빡세게 도끼질을 합시다\n",
      "빡세게 도끼질을 합시다\n",
      "빡세게 도끼질을 합시다\n",
      "빡세게 도끼질을 합시다\n",
      "빡세게 도끼질을 합시다\n",
      "빡세게 도끼질을 합시다\n",
      "빡세게 도끼질을 합시다\n",
      "빡세게 도끼질을 합시다\n",
      "빡세게 도끼질을 합시다\n",
      "빡세게 도끼질을 합시다\n",
      "나무 굴러가유.\n"
     ]
    }
   ],
   "source": [
    "도끼질 = 0\n",
    "while 도끼질 <= 9:\n",
    "    도끼질 = 도끼질 + 1\n",
    "    print(\"빡세게 도끼질을 합시다\")\n",
    "if 도끼질 == 10:\n",
    "    print(\"나무 굴러가유.\")"
   ]
  },
  {
   "cell_type": "code",
   "execution_count": 45,
   "metadata": {},
   "outputs": [
    {
     "name": "stdout",
     "output_type": "stream",
     "text": [
      "커피 나갑니다\n",
      "커피 나갑니다\n",
      "커피 나갑니다\n",
      "커피 나갑니다\n",
      "커피 나갑니다\n",
      "커피 나갑니다\n",
      "커피 나갑니다\n",
      "커피 나갑니다\n",
      "커피 나갑니다\n",
      "커피 나갑니다\n",
      "커피 다나갔습니다.\n"
     ]
    }
   ],
   "source": [
    "moeny = 3000\n",
    "coffee = 10\n",
    "while coffee:\n",
    "    money = money -200\n",
    "    coffee = coffee -1\n",
    "    print(\"커피 나갑니다\")\n",
    "    if not coffee:\n",
    "        print(\"커피 다나갔습니다.\")\n",
    "        break"
   ]
  },
  {
   "cell_type": "code",
   "execution_count": null,
   "metadata": {},
   "outputs": [],
   "source": []
  },
  {
   "cell_type": "code",
   "execution_count": null,
   "metadata": {},
   "outputs": [],
   "source": []
  }
 ],
 "metadata": {
  "kernelspec": {
   "display_name": "Python 3",
   "language": "python",
   "name": "python3"
  },
  "language_info": {
   "codemirror_mode": {
    "name": "ipython",
    "version": 3
   },
   "file_extension": ".py",
   "mimetype": "text/x-python",
   "name": "python",
   "nbconvert_exporter": "python",
   "pygments_lexer": "ipython3",
   "version": "3.6.4"
  }
 },
 "nbformat": 4,
 "nbformat_minor": 2
}
